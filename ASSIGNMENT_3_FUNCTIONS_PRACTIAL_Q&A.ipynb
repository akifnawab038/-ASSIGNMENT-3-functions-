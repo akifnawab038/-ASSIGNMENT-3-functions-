{
  "nbformat": 4,
  "nbformat_minor": 0,
  "metadata": {
    "colab": {
      "provenance": [],
      "authorship_tag": "ABX9TyPfeQZlmCUnBVVjIviUiHDd",
      "include_colab_link": true
    },
    "kernelspec": {
      "name": "python3",
      "display_name": "Python 3"
    },
    "language_info": {
      "name": "python"
    }
  },
  "cells": [
    {
      "cell_type": "markdown",
      "metadata": {
        "id": "view-in-github",
        "colab_type": "text"
      },
      "source": [
        "<a href=\"https://colab.research.google.com/github/akifnawab038/-ASSIGNMENT-3-functions-/blob/main/ASSIGNMENT_3_FUNCTIONS_PRACTIAL_Q%26A.ipynb\" target=\"_parent\"><img src=\"https://colab.research.google.com/assets/colab-badge.svg\" alt=\"Open In Colab\"/></a>"
      ]
    },
    {
      "cell_type": "markdown",
      "source": [
        "# ASSIGNMENT 3:\n",
        "\n",
        "#FUNCTIONS"
      ],
      "metadata": {
        "id": "vUqaABkAUFKx"
      }
    },
    {
      "cell_type": "markdown",
      "source": [
        "###PRACTIAL QUESTIONS."
      ],
      "metadata": {
        "id": "hzP5ZgmFXOsK"
      }
    },
    {
      "cell_type": "code",
      "execution_count": null,
      "metadata": {
        "id": "DpMRZYpyTqog"
      },
      "outputs": [],
      "source": []
    },
    {
      "cell_type": "markdown",
      "source": [
        "**1. Write a Python function that takes a list of numbers as input and returns the sum of all even numbers in\n",
        "the list.**"
      ],
      "metadata": {
        "id": "DD4aA_2DURJ-"
      }
    },
    {
      "cell_type": "code",
      "source": [
        "def sumeve(num):\n",
        "  sum_even = 0\n",
        "  for num in num:\n",
        "    if num % 2 == 0:\n",
        "      sum_even += num\n",
        "  return sum_even\n",
        "\n",
        "num = [1, 2, 3, 4, 5, 6, 7, 8]\n",
        "result = sumeve(num)\n",
        "print(result)"
      ],
      "metadata": {
        "colab": {
          "base_uri": "https://localhost:8080/"
        },
        "id": "jrGdmBNqUWCZ",
        "outputId": "b14f82c5-8296-41a5-9a30-23cca2285e42"
      },
      "execution_count": null,
      "outputs": [
        {
          "output_type": "stream",
          "name": "stdout",
          "text": [
            "20\n"
          ]
        }
      ]
    },
    {
      "cell_type": "code",
      "source": [],
      "metadata": {
        "id": "aGW3W2r0Uyz1"
      },
      "execution_count": null,
      "outputs": []
    },
    {
      "cell_type": "markdown",
      "source": [
        "**2. Create a Python function that accepts a string and returns the reverse of that string.**"
      ],
      "metadata": {
        "id": "W6hSBYuuVEj1"
      }
    },
    {
      "cell_type": "code",
      "source": [
        "def reverse_str(str1):\n",
        "  reverse = str1[::-1]\n",
        "  return reverse\n",
        "\n",
        "str1 = \"Hello World\"\n",
        "result = reverse_str(str1)\n",
        "print(result)"
      ],
      "metadata": {
        "colab": {
          "base_uri": "https://localhost:8080/"
        },
        "id": "RK9CI1eHVLEt",
        "outputId": "de3faf3f-b51c-45bc-86a1-2ae2cd21cf46"
      },
      "execution_count": null,
      "outputs": [
        {
          "output_type": "stream",
          "name": "stdout",
          "text": [
            "dlroW olleH\n"
          ]
        }
      ]
    },
    {
      "cell_type": "markdown",
      "source": [
        "**3. Implement a Python function that takes a list of integers and returns a new list containing the squares of\n",
        "each number.**"
      ],
      "metadata": {
        "id": "6935wk82W6Mt"
      }
    },
    {
      "cell_type": "code",
      "source": [
        "def square_numbers(numbers):\n",
        "\n",
        "  squared_numbers = []\n",
        "  for num in numbers:\n",
        "    squared_numbers.append(num**2)\n",
        "  return squared_numbers\n",
        "\n",
        "square_numbers([1, 2, 3, 4, 5])"
      ],
      "metadata": {
        "colab": {
          "base_uri": "https://localhost:8080/"
        },
        "id": "4VrjhHN2Wdnt",
        "outputId": "0130f9c7-af09-44be-c59b-84872daa3959"
      },
      "execution_count": null,
      "outputs": [
        {
          "output_type": "execute_result",
          "data": {
            "text/plain": [
              "[1, 4, 9, 16, 25]"
            ]
          },
          "metadata": {},
          "execution_count": 5
        }
      ]
    },
    {
      "cell_type": "code",
      "source": [],
      "metadata": {
        "id": "v4hvmHjLXHZJ"
      },
      "execution_count": null,
      "outputs": []
    },
    {
      "cell_type": "markdown",
      "source": [
        "**4. Write a Python function that checks if a given number is prime or not from 1 to 200**"
      ],
      "metadata": {
        "id": "V49WR0MJX53m"
      }
    },
    {
      "cell_type": "code",
      "source": [
        "def IS_prime(number):\n",
        "  if number <= 1:\n",
        "    return False\n",
        "  if number <= 3:\n",
        "    return True\n",
        "  if number % 2 == 0 or number % 3 == 0:\n",
        "    return False\n",
        "\n",
        "  i = 5\n",
        "  while i * i <= number:\n",
        "    if number % i == 0 or number % (i + 2) == 0:\n",
        "      return False\n",
        "    i += 6\n",
        "\n",
        "  return True\n",
        "\n",
        "\n",
        "for number in range(1, 201):\n",
        "  if is_prime(number):\n",
        "    print(number)"
      ],
      "metadata": {
        "colab": {
          "base_uri": "https://localhost:8080/"
        },
        "id": "PsNQ3VPLX9hl",
        "outputId": "e036a918-2512-4961-c351-93b698f9882d"
      },
      "execution_count": null,
      "outputs": [
        {
          "output_type": "stream",
          "name": "stdout",
          "text": [
            "2\n",
            "3\n",
            "5\n",
            "7\n",
            "11\n",
            "13\n",
            "17\n",
            "19\n",
            "23\n",
            "29\n",
            "31\n",
            "37\n",
            "41\n",
            "43\n",
            "47\n",
            "53\n",
            "59\n",
            "61\n",
            "67\n",
            "71\n",
            "73\n",
            "79\n",
            "83\n",
            "89\n",
            "97\n",
            "101\n",
            "103\n",
            "107\n",
            "109\n",
            "113\n",
            "127\n",
            "131\n",
            "137\n",
            "139\n",
            "149\n",
            "151\n",
            "157\n",
            "163\n",
            "167\n",
            "173\n",
            "179\n",
            "181\n",
            "191\n",
            "193\n",
            "197\n",
            "199\n"
          ]
        }
      ]
    },
    {
      "cell_type": "code",
      "source": [],
      "metadata": {
        "id": "N8AcZcFIYD1l"
      },
      "execution_count": null,
      "outputs": []
    },
    {
      "cell_type": "markdown",
      "source": [
        "**5. Create an iterator class in Python that generates the Fibonacci sequence up to a specified number of\n",
        "terms.**"
      ],
      "metadata": {
        "id": "rz0aXHEZYRdr"
      }
    },
    {
      "cell_type": "code",
      "source": [
        "class Fibonaci:\n",
        "  def __init__(self):\n",
        "    self.n2 = 1\n",
        "    self.n3 = 1\n",
        "  def __iter__(self):\n",
        "    return self\n",
        "  def __next__(self):\n",
        "    self.n1 = self.n2\n",
        "    self.n2 = self.n3\n",
        "    self.n3 = self.n1 + self.n2\n",
        "    return self.n1\n",
        "\n",
        "fib = Fibonaci()\n",
        "for i in range(10):\n",
        "  print(next(fib))\n",
        "\n"
      ],
      "metadata": {
        "colab": {
          "base_uri": "https://localhost:8080/"
        },
        "id": "L-8l3VjuDvlI",
        "outputId": "a5c0dafa-7c4f-491d-f203-ed7dd0f5f09c"
      },
      "execution_count": null,
      "outputs": [
        {
          "output_type": "stream",
          "name": "stdout",
          "text": [
            "1\n",
            "1\n",
            "2\n",
            "3\n",
            "5\n",
            "8\n",
            "13\n",
            "21\n",
            "34\n",
            "55\n"
          ]
        }
      ]
    },
    {
      "cell_type": "markdown",
      "source": [
        "**6. Write a generator function in Python that yields the powers of 2 up to a given exponent.**"
      ],
      "metadata": {
        "id": "tJNsu5I7cM71"
      }
    },
    {
      "cell_type": "code",
      "source": [
        "def powers_of_two(exponent):\n",
        "    if exponent >= 0:\n",
        "        yield 2 ** exponent\n",
        "        yield from powers_of_two(exponent - 1)\n",
        "\n",
        "exponent = 5\n",
        "for power in powers_of_two(exponent):\n",
        "    print(power)"
      ],
      "metadata": {
        "colab": {
          "base_uri": "https://localhost:8080/"
        },
        "id": "0ClOQfpTb4Jm",
        "outputId": "0e64226c-cca4-4f21-9dab-03b224b97092"
      },
      "execution_count": null,
      "outputs": [
        {
          "output_type": "stream",
          "name": "stdout",
          "text": [
            "32\n",
            "16\n",
            "8\n",
            "4\n",
            "2\n",
            "1\n"
          ]
        }
      ]
    },
    {
      "cell_type": "markdown",
      "source": [
        "**7. Implement a generator function that reads a file line by line and yields each line as a string.**"
      ],
      "metadata": {
        "id": "PNpo9hwwc-Qt"
      }
    },
    {
      "cell_type": "code",
      "source": [
        "def read_file_lines(filename):\n",
        "    try:\n",
        "        with open(filename, 'r') as file:\n",
        "            for line in file:\n",
        "                yield line.rstrip()\n",
        "    except FileNotFoundError:\n",
        "        print(f\"Error: File '{filename}' not found.\")\n",
        "\n",
        "filename = \"my name is md akif nawab\"\n",
        "for line in read_file_lines(filename):\n",
        "    print(line)"
      ],
      "metadata": {
        "colab": {
          "base_uri": "https://localhost:8080/"
        },
        "id": "Is0lf76aduhH",
        "outputId": "82a7cbbe-c8c1-4704-cac8-5a27fd85c034"
      },
      "execution_count": null,
      "outputs": [
        {
          "output_type": "stream",
          "name": "stdout",
          "text": [
            "Error: File 'my name is md akif nawab' not found.\n"
          ]
        }
      ]
    },
    {
      "cell_type": "markdown",
      "source": [
        "**8. Use a lambda function in Python to sort a list of tuples based on the second element of each tuple**"
      ],
      "metadata": {
        "id": "0ikjctSretpt"
      }
    },
    {
      "cell_type": "code",
      "source": [
        "tuples_list = [(1, 3), (4, 2), (2, 5), (6,7)]\n",
        "sorted_tuples = sorted(tuples_list, key=lambda x: x[1])\n",
        "\n",
        "print(sorted_tuples)"
      ],
      "metadata": {
        "colab": {
          "base_uri": "https://localhost:8080/"
        },
        "id": "xTlcqq1GeZk7",
        "outputId": "42c2082b-2175-4cdb-ca04-ff58a0dcf933"
      },
      "execution_count": null,
      "outputs": [
        {
          "output_type": "stream",
          "name": "stdout",
          "text": [
            "[(4, 2), (1, 3), (2, 5), (6, 7)]\n"
          ]
        }
      ]
    },
    {
      "cell_type": "code",
      "source": [
        "def cels(celsius):\n",
        "\n",
        "    return (celsius * 9/5) + 32\n",
        "\n",
        "temperatures_celsius = [25, 30, 35]\n",
        "\n",
        "temperatures_fahrenheit = list(map(cels, temperatures_celsius))\n",
        "\n",
        "print(temperatures_fahrenheit)"
      ],
      "metadata": {
        "colab": {
          "base_uri": "https://localhost:8080/"
        },
        "id": "8feqtcCwfHU6",
        "outputId": "22dc1247-157d-44b1-d546-b04f652533e8"
      },
      "execution_count": null,
      "outputs": [
        {
          "output_type": "stream",
          "name": "stdout",
          "text": [
            "[77.0, 86.0, 95.0]\n"
          ]
        }
      ]
    },
    {
      "cell_type": "markdown",
      "source": [
        "**10. Create a Python program that uses `filter()` to remove all the vowels from a given string**"
      ],
      "metadata": {
        "id": "EAL7A8PwgAVh"
      }
    },
    {
      "cell_type": "code",
      "source": [
        "def remove_vowels(string):\n",
        "    vowels = \"aeiouAEIOU\"\n",
        "    return \"\".join(char for char in string if char not in vowels)\n",
        "\n",
        "string = \"Hello, world!\"\n",
        "result = filter(lambda char: char not in \"aeiouAEIOU\", string)\n",
        "result_string = \"\".join(result)\n",
        "print(result_string)"
      ],
      "metadata": {
        "colab": {
          "base_uri": "https://localhost:8080/"
        },
        "id": "BklhuYJzf5Pa",
        "outputId": "714712d9-8991-4ccd-c1e3-a938471503de"
      },
      "execution_count": null,
      "outputs": [
        {
          "output_type": "stream",
          "name": "stdout",
          "text": [
            "Hll, wrld!\n"
          ]
        }
      ]
    },
    {
      "cell_type": "markdown",
      "source": [
        "**11) Imagine an accounting routine used in a book shop. It works on a list with sublists, which look like this:**"
      ],
      "metadata": {
        "id": "-Z0YujHWh6nZ"
      }
    },
    {
      "cell_type": "code",
      "source": [
        "def calculate_order_value(order_data):\n",
        "    order_number, _, quantity, price_per_item = order_data\n",
        "    total_price = quantity * price_per_item\n",
        "    if total_price < 100:\n",
        "        total_price += 10\n",
        "    return (order_number, total_price)\n",
        "\n",
        "order_list = [\n",
        "    [34587, \"Learning Python, Mark Lutz\", 4, 40.95],\n",
        "    [98762, \"Programming Python, Mark Lutz\", 5, 56.80],\n",
        "    [77226, \"Head First Python, Paul Barry\", 3, 32.95],\n",
        "    [88112, \"Einführung in Python3, Bernd Klein\", 3, 24.99]\n",
        "]\n",
        "\n",
        "result_list_comprehension = [calculate_order_value(order) for order in order_list]\n",
        "\n",
        "result_lambda_map = list(map(calculate_order_value, order_list))\n",
        "\n",
        "print(\"Result using list comprehension:\", result_list_comprehension)\n",
        "print(\"Result using lambda and map:\", result_lambda_map)"
      ],
      "metadata": {
        "colab": {
          "base_uri": "https://localhost:8080/"
        },
        "id": "E5DhVEjcjT0B",
        "outputId": "e5b8244c-dc82-4d89-97c1-f7b235bc895f"
      },
      "execution_count": null,
      "outputs": [
        {
          "output_type": "stream",
          "name": "stdout",
          "text": [
            "Result using list comprehension: [(34587, 163.8), (98762, 284.0), (77226, 108.85000000000001), (88112, 84.97)]\n",
            "Result using lambda and map: [(34587, 163.8), (98762, 284.0), (77226, 108.85000000000001), (88112, 84.97)]\n"
          ]
        }
      ]
    },
    {
      "cell_type": "code",
      "source": [],
      "metadata": {
        "id": "rIMh-KBwje7f"
      },
      "execution_count": null,
      "outputs": []
    }
  ]
}